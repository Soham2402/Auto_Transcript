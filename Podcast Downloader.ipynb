{
 "cells": [
  {
   "cell_type": "markdown",
   "id": "7669a108",
   "metadata": {},
   "source": [
    "# How podcasts actually work?\n",
    "\n",
    "In order to download soemthing, we need some kind of MP3 file. Podcasts get this mp3 files from an RSS feed. If you have a link to the RSS feed you have all the information for your podcast\n",
    "    \n",
    "<a href = \"https://lexfridman.com/feed/podcast/\">This is how an rss feed looks like </a>\n",
    "\n",
    "RSS stands for Really Simple Syndication\n",
    "\n",
    "<b>This XML file basically holds all the information about the podcasts the user has ever uploaded, including the mp3 file</b>\n",
    "\n",
    "\n",
    "\n",
    "\n",
    "# So what can we do?\n",
    "We can programatically go through our RSS feed, find the mp3/audio file link and download it along with all the relavent information"
   ]
  },
  {
   "cell_type": "code",
   "execution_count": null,
   "id": "177de3f2",
   "metadata": {},
   "outputs": [],
   "source": []
  },
  {
   "cell_type": "code",
   "execution_count": 1,
   "id": "19c3ea3a",
   "metadata": {},
   "outputs": [],
   "source": [
    "from bs4 import BeautifulSoup\n",
    "import requests"
   ]
  },
  {
   "cell_type": "code",
   "execution_count": 2,
   "id": "4243aef4",
   "metadata": {},
   "outputs": [],
   "source": [
    "rss_url_link = 'https://lexfridman.com/feed/podcast/'\n",
    "page = requests.get(rss_url_link)\n",
    "soup = BeautifulSoup(page.content, 'xml')"
   ]
  },
  {
   "cell_type": "code",
   "execution_count": 3,
   "id": "de520312",
   "metadata": {},
   "outputs": [],
   "source": [
    "podcast_items = soup.find_all('item')"
   ]
  },
  {
   "cell_type": "code",
   "execution_count": 4,
   "id": "9d2ae198",
   "metadata": {},
   "outputs": [
    {
     "data": {
      "text/plain": [
       "\"Andrew Huberman is a neuroscientist at Stanford and host of the Huberman Lab Podcast. Please support this podcast by checking out our sponsors:\\n- InsideTracker: https://insidetracker.com/lex to get 20% off\\n- Eight Sleep: https://www.eightsleep.com/lex to get special savings\\n- AG1: https://drinkag1.com/lex to get 1 month supply of fish oil\\n- Shopify: https://shopify.com/lex to get $1 per month trial\\n- NetSuite: http://netsuite.com/lex to get free product tour\\n\\nTranscript: https://lexfridman.com/andrew-huberman-4-transcript\\n\\nEPISODE LINKS:\\nAndrew's YouTube: https://www.youtube.com/AndrewHubermanLab\\nAndrew's Instagram: https://instagram.com/hubermanlab\\nAndrew's Website: https://hubermanlab.com\\nAndrew's Twitter: https://twitter.com/hubermanlab\\n\\nPODCAST INFO:\\nPodcast website: https://lexfridman.com/podcast\\nApple Podcasts: https://apple.co/2lwqZIr\\nSpotify: https://spoti.fi/2nEwCF8\\nRSS: https://lexfridman.com/feed/podcast/\\nYouTube Full Episodes: https://youtube.com/lexfridman\\nYouTube Clips: https://youtube.com/lexclips\\n\\nSUPPORT & CONNECT:\\n- Check out the sponsors above, it's the best way to support this podcast\\n- Support on Patreon: https://www.patreon.com/lexfridman\\n- Twitter: https://twitter.com/lexfridman\\n- Instagram: https://www.instagram.com/lexfridman\\n- LinkedIn: https://www.linkedin.com/in/lexfridman\\n- Facebook: https://www.facebook.com/lexfridman\\n- Medium: https://medium.com/@lexfridman\\n\\nOUTLINE:\\nHere's the timestamps for the episode. On some podcast players you should be able to click the timestamp to jump to that time.\\n(00:00) - Introduction\\n(09:42) - Exercise routine\\n(15:52) - Advice to younger self\\n(23:07) - Jungian shadow\\n(27:53) - Betrayal and loyalty\\n(48:03) - Drama\\n(1:05:42) - Chimp Empire\\n(1:10:35) - Overt vs covert contracts\\n(1:16:42) - Age and health\\n(1:22:49) - Sexual selection\\n(1:33:26) - Relationships\\n(1:45:59) - Fertility\\n(1:56:25) - Productivity\\n(2:13:13) - Family\""
      ]
     },
     "execution_count": 4,
     "metadata": {},
     "output_type": "execute_result"
    }
   ],
   "source": [
    "podcast_items[0].find('description').text"
   ]
  },
  {
   "cell_type": "markdown",
   "id": "b0455eaf",
   "metadata": {},
   "source": [
    "# Finding the mp3/audio link within the feed\n",
    "To do that we can simply search for the enclosure field"
   ]
  },
  {
   "cell_type": "code",
   "execution_count": 5,
   "id": "14c8c79b",
   "metadata": {},
   "outputs": [
    {
     "name": "stdout",
     "output_type": "stream",
     "text": [
      "<enclosure length=\"101284992\" type=\"audio/mpeg\" url=\"https://media.blubrry.com/takeituneasy/content.blubrry.com/takeituneasy/lex_ai_andrew_huberman_4.mp3\"/>\n",
      "https://media.blubrry.com/takeituneasy/content.blubrry.com/takeituneasy/lex_ai_andrew_huberman_4.mp3\n"
     ]
    }
   ],
   "source": [
    "print(podcast_items[0].find('enclosure'))\n",
    "\n",
    "#we only want the url \n",
    "print(podcast_items[0].find('enclosure')['url'])"
   ]
  },
  {
   "cell_type": "code",
   "execution_count": 7,
   "id": "7fde7384",
   "metadata": {},
   "outputs": [],
   "source": [
    "def get_audio_links(podcast_items):\n",
    "    audio_links = []\n",
    "    for i in podcast_items:\n",
    "        audio_links.append(i.find('enclosure')['url'])\n",
    "    return audio_links\n",
    "\n",
    "audio_links = get_audio_links(podcast_items)"
   ]
  },
  {
   "cell_type": "markdown",
   "id": "9dc3d846",
   "metadata": {},
   "source": [
    "# Writing the audio files into a folder"
   ]
  },
  {
   "cell_type": "code",
   "execution_count": 10,
   "id": "8c756502",
   "metadata": {},
   "outputs": [
    {
     "name": "stdout",
     "output_type": "stream",
     "text": [
      "response done\n"
     ]
    }
   ],
   "source": [
    "%%\n",
    "audio_links[0]\n",
    "headers = {\n",
    "    'User-Agent': 'Mozilla/5.0 (Windows NT 10.0; Win64; x64) AppleWebKit/537.36 (KHTML, like Gecko) Chrome/58.0.3029.110 Safari/537.3'\n",
    "}\n",
    "response = requests.get(audio_links[0],stream = True,headers = headers)\n",
    "print('response done')\n",
    "with open(\"newfile.mp3\",'wb') as f:\n",
    "    f.write(response.content)\n",
    "    "
   ]
  },
  {
   "cell_type": "code",
   "execution_count": 43,
   "id": "a497613b",
   "metadata": {},
   "outputs": [
    {
     "name": "stdout",
     "output_type": "stream",
     "text": [
      "Defaulting to user installation because normal site-packages is not writeable\n",
      "\u001b[31mERROR: Could not find a version that satisfies the requirement beautifullsoup4 (from versions: none)\u001b[0m\u001b[31m\n",
      "\u001b[0m\u001b[31mERROR: No matching distribution found for beautifullsoup4\u001b[0m\u001b[31m\n",
      "\u001b[0m"
     ]
    }
   ],
   "source": [
    "# pip install requests\n",
    "\n",
    "link = 'https://media.blubrry.com/takeituneasy/content.blubrry.com/takeituneasy/lex_ai_andrew_huberman_4.mp3'\n",
    "headers = {\n",
    "    'User-Agent': 'Mozilla/5.0 (Windows NT 10.0; Win64; x64) AppleWebKit/537.36 (KHTML, like Gecko) Chrome/58.0.3029.110 Safari/537.3'\n",
    "}\n",
    "\n",
    "response = requests.get(link,headers = headers,stream = True)\n",
    "with open(\"newfile.mp3\",'wb') as f:\n",
    "    for chunk in response.iter_content(chunk_size=300):\n",
    "        f.write(chunk)"
   ]
  },
  {
   "attachments": {},
   "cell_type": "markdown",
   "id": "083ed9dc",
   "metadata": {},
   "source": [
    "# Async requests for multiple requests\n",
    "\n",
    "All code is synchronus by nature, to write async code we need to do things differents. \n",
    "We first create a coroutines object, which basically is a wrapper around our function which turns our synchronus function into an asynch function."
   ]
  },
  {
   "cell_type": "markdown",
   "id": "d6ce1fe5",
   "metadata": {},
   "source": [
    "Using the async keyword before the function creates a coroutine object which makes the function an asynch function\n",
    "Even if u use await keyword before calling the function like <await funcname()> it will give the following error\n",
    "> SyntaxError: 'await' outside function\n",
    "\n",
    "This is because, to run our coroutine object, we need to put it in an event loop using <b> asyncio.run(funcname()) </b>\n",
    "\n",
    "The <b>await</b> keyword can only be used within an asyn function\n",
    "\n",
    "## Doing other task while your function is idle\n",
    "\n",
    "We can simply use the function <b> asyncio.create_task(name of async function) </b>\n",
    "\n",
    "### Concurency is extremely useful when it comes to io operations, where u can command your progream to do other things while ur program is reading/writing information\n",
    "    "
   ]
  },
  {
   "cell_type": "code",
   "execution_count": null,
   "id": "836741b4",
   "metadata": {},
   "outputs": [],
   "source": []
  }
 ],
 "metadata": {
  "kernelspec": {
   "display_name": "Python 3 (ipykernel)",
   "language": "python",
   "name": "python3"
  },
  "language_info": {
   "codemirror_mode": {
    "name": "ipython",
    "version": 3
   },
   "file_extension": ".py",
   "mimetype": "text/x-python",
   "name": "python",
   "nbconvert_exporter": "python",
   "pygments_lexer": "ipython3",
   "version": "3.10.12"
  }
 },
 "nbformat": 4,
 "nbformat_minor": 5
}
