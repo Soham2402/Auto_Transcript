{
 "cells": [
  {
   "cell_type": "markdown",
   "id": "7669a108",
   "metadata": {},
   "source": [
    "# How podcasts actually work?\n",
    "\n",
    "In order to download soemthing, we need some kind of MP3 file. Podcasts get this mp3 files from an RSS feed. If you have a link to the RSS feed you have all the information for your podcast\n",
    "    \n",
    "<a href = \"https://lexfridman.com/feed/podcast/\">This is how an rss feed looks like </a>\n",
    "\n",
    "RSS stands for Really Simple Syndication\n",
    "\n",
    "<b>This XML file basically holds all the information about the podcasts the user has ever uploaded, including the mp3 file</b>\n",
    "\n",
    "\n",
    "\n",
    "\n",
    "# So what can we do?\n",
    "We can programatically go through our RSS feed, find the mp3/audio file link and download it along with all the relavent information"
   ]
  },
  {
   "cell_type": "code",
   "execution_count": null,
   "id": "177de3f2",
   "metadata": {},
   "outputs": [],
   "source": []
  },
  {
   "cell_type": "code",
   "execution_count": 2,
   "id": "19c3ea3a",
   "metadata": {},
   "outputs": [],
   "source": [
    "from bs4 import BeautifulSoup\n",
    "import requests"
   ]
  },
  {
   "cell_type": "code",
   "execution_count": 20,
   "id": "4243aef4",
   "metadata": {},
   "outputs": [],
   "source": [
    "rss_url_link = 'https://lexfridman.com/feed/podcast/'\n",
    "page = requests.get(rss_url_link)\n",
    "soup = BeautifulSoup(page.content, 'xml')"
   ]
  },
  {
   "cell_type": "code",
   "execution_count": 21,
   "id": "de520312",
   "metadata": {},
   "outputs": [],
   "source": [
    "podcast_items = soup.find_all('item')"
   ]
  },
  {
   "cell_type": "code",
   "execution_count": 22,
   "id": "9d2ae198",
   "metadata": {},
   "outputs": [
    {
     "data": {
      "text/plain": [
       "\"Andrew Huberman is a neuroscientist at Stanford and host of the Huberman Lab Podcast. Please support this podcast by checking out our sponsors:\\n- InsideTracker: https://insidetracker.com/lex to get 20% off\\n- Eight Sleep: https://www.eightsleep.com/lex to get special savings\\n- AG1: https://drinkag1.com/lex to get 1 month supply of fish oil\\n- Shopify: https://shopify.com/lex to get $1 per month trial\\n- NetSuite: http://netsuite.com/lex to get free product tour\\n\\nTranscript: https://lexfridman.com/andrew-huberman-4-transcript\\n\\nEPISODE LINKS:\\nAndrew's YouTube: https://www.youtube.com/AndrewHubermanLab\\nAndrew's Instagram: https://instagram.com/hubermanlab\\nAndrew's Website: https://hubermanlab.com\\nAndrew's Twitter: https://twitter.com/hubermanlab\\n\\nPODCAST INFO:\\nPodcast website: https://lexfridman.com/podcast\\nApple Podcasts: https://apple.co/2lwqZIr\\nSpotify: https://spoti.fi/2nEwCF8\\nRSS: https://lexfridman.com/feed/podcast/\\nYouTube Full Episodes: https://youtube.com/lexfridman\\nYouTube Clips: https://youtube.com/lexclips\\n\\nSUPPORT & CONNECT:\\n- Check out the sponsors above, it's the best way to support this podcast\\n- Support on Patreon: https://www.patreon.com/lexfridman\\n- Twitter: https://twitter.com/lexfridman\\n- Instagram: https://www.instagram.com/lexfridman\\n- LinkedIn: https://www.linkedin.com/in/lexfridman\\n- Facebook: https://www.facebook.com/lexfridman\\n- Medium: https://medium.com/@lexfridman\\n\\nOUTLINE:\\nHere's the timestamps for the episode. On some podcast players you should be able to click the timestamp to jump to that time.\\n(00:00) - Introduction\\n(09:42) - Exercise routine\\n(15:52) - Advice to younger self\\n(23:07) - Jungian shadow\\n(27:53) - Betrayal and loyalty\\n(48:03) - Drama\\n(1:05:42) - Chimp Empire\\n(1:10:35) - Overt vs covert contracts\\n(1:16:42) - Age and health\\n(1:22:49) - Sexual selection\\n(1:33:26) - Relationships\\n(1:45:59) - Fertility\\n(1:56:25) - Productivity\\n(2:13:13) - Family\""
      ]
     },
     "execution_count": 22,
     "metadata": {},
     "output_type": "execute_result"
    }
   ],
   "source": [
    "podcast_items[0].find('description').text"
   ]
  },
  {
   "cell_type": "markdown",
   "id": "b0455eaf",
   "metadata": {},
   "source": [
    "# Finding the mp3/audio link within the feed\n",
    "To do that we can simply search for the enclosure field"
   ]
  },
  {
   "cell_type": "code",
   "execution_count": 27,
   "id": "14c8c79b",
   "metadata": {},
   "outputs": [
    {
     "name": "stdout",
     "output_type": "stream",
     "text": [
      "<enclosure length=\"59509293\" type=\"audio/mpeg\" url=\"https://media.blubrry.com/takeituneasy/content.blubrry.com/takeituneasy/mit_ai_max_tegmark.mp3\"/>\n",
      "https://media.blubrry.com/takeituneasy/content.blubrry.com/takeituneasy/mit_ai_max_tegmark.mp3\n"
     ]
    }
   ],
   "source": [
    "print(i.find('enclosure'))\n",
    "\n",
    "#we only want the url \n",
    "print(i.find('enclosure')['url'])"
   ]
  },
  {
   "cell_type": "code",
   "execution_count": 25,
   "id": "7fde7384",
   "metadata": {},
   "outputs": [],
   "source": [
    "\n",
    "def get_audio_links(podcast_items):\n",
    "    audio_links = []\n",
    "    for i in podcast_items:\n",
    "        audio_links.append(i.find('enclosure')['url'])\n",
    "    return audio_links\n",
    "\n",
    "audio_links = get_audio_links(podcast_items)"
   ]
  },
  {
   "cell_type": "code",
   "execution_count": null,
   "id": "29e98235",
   "metadata": {},
   "outputs": [],
   "source": []
  }
 ],
 "metadata": {
  "kernelspec": {
   "display_name": "Python 3 (ipykernel)",
   "language": "python",
   "name": "python3"
  },
  "language_info": {
   "codemirror_mode": {
    "name": "ipython",
    "version": 3
   },
   "file_extension": ".py",
   "mimetype": "text/x-python",
   "name": "python",
   "nbconvert_exporter": "python",
   "pygments_lexer": "ipython3",
   "version": "3.10.12"
  }
 },
 "nbformat": 4,
 "nbformat_minor": 5
}
